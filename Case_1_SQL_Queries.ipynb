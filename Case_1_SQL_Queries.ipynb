{
 "cells": [
  {
   "cell_type": "markdown",
   "source": "# Case 1 - SQL Queries",
   "metadata": {
    "tags": [],
    "is_collapsed": false,
    "cell_id": "00000-852e36f8-655d-4af6-a575-1a604efcf73e",
    "deepnote_cell_type": "text-cell-h1"
   }
  },
  {
   "cell_type": "markdown",
   "source": "## Business Problem",
   "metadata": {
    "tags": [],
    "is_collapsed": false,
    "cell_id": "00001-e68f346a-17e1-416d-9295-a96831204224",
    "deepnote_cell_type": "text-cell-h2"
   }
  },
  {
   "cell_type": "markdown",
   "source": "You are the owner of a small electronic shop in Bogotá called ElectroSQL. You want to start to have a digital record of your clients, transactions and suppliers and you want to use that information to understand your business and find ways to improve it.",
   "metadata": {
    "tags": [],
    "cell_id": "00002-6b42b079-6c00-42b5-bfe0-64369187b614",
    "deepnote_cell_type": "markdown"
   }
  },
  {
   "cell_type": "markdown",
   "source": "## DataBase Design",
   "metadata": {
    "tags": [],
    "is_collapsed": false,
    "cell_id": "00003-ba3b74d7-a0c3-4d49-8595-6ae856d5c5de",
    "deepnote_cell_type": "text-cell-h2"
   }
  },
  {
   "cell_type": "markdown",
   "source": "You have thought and decided that this is the DataBase design you can create with the information that you are going to implement",
   "metadata": {
    "tags": [],
    "cell_id": "00004-3ae41571-7b38-4411-89c6-459f00fd99ec",
    "deepnote_cell_type": "markdown"
   }
  },
  {
   "cell_type": "markdown",
   "source": "<img src=/indu5000_Case_1/Images/DB_Design.png>",
   "metadata": {
    "tags": [],
    "cell_id": "00004-b8d3cdde-1f31-457e-87c9-bb0ae6fe22f2",
    "deepnote_cell_type": "markdown"
   }
  },
  {
   "cell_type": "markdown",
   "source": "## DataBase Creation",
   "metadata": {
    "tags": [],
    "is_collapsed": false,
    "cell_id": "00002-545f2a5e-2624-42e3-b0ff-4ca1c4fed606",
    "deepnote_cell_type": "text-cell-h2"
   }
  },
  {
   "cell_type": "markdown",
   "source": "So, the first thing you are going to do is to create the database with the informatio you have already aquireded.\nThis Database is going to be hosted in the cloud at [elephantSQL](https://www.elephantsql.com),a free Database provider powered by PostgreSQL \nThese are the steps that need to be followed:\n",
   "metadata": {
    "tags": [],
    "cell_id": "00004-90478253-7f94-4158-9c36-37f6eea41eb1",
    "deepnote_cell_type": "markdown"
   }
  },
  {
   "cell_type": "markdown",
   "source": "- Create an account at elephantSQL\n- Create a free instance by: Clicking on the option create new instance, Fill the information: Name: ElectroSQL, Plan: Tiny turtle, Select any available region, Click on review and create instance\n- Create the database by copying the queries located in the text file called \"DB_creation.txt\" and pasting them in the SQL Query input box located in the Browser tab.\n- Confirm the table creation by running on the following code on the SQL Query input box: 'SELECT * FROM ElectroSQL.clientes'",
   "metadata": {
    "tags": [],
    "cell_id": "00008-8c9c7d94-d6d1-44a5-b2e2-cbf591046095",
    "deepnote_cell_type": "markdown"
   }
  },
  {
   "cell_type": "markdown",
   "source": "## DataBase Conexion",
   "metadata": {
    "tags": [],
    "is_collapsed": false,
    "cell_id": "00003-9894bc1a-e1bb-4e66-80c1-507f1f058cb8",
    "deepnote_cell_type": "text-cell-h2"
   }
  },
  {
   "cell_type": "markdown",
   "source": "Now that the Database has been created, you create the concexion between the database and the Notebook where we are working.\nIn order to do that, you can go tho the left side panel, to the integration tab. There you choose the option PostgreSQL and click on the add button. The required information is available at the Detail tab in elephantSQL. So you need to copy and paste the information. The left side is the information to fill on Deepnote and the right side is the information located on elephantSQL:\n\n- Hostname: Server\n- Username: User & Default database\n- Password: Password\n- Database: User & Default database\n- Integration Name:  ElectroSQL",
   "metadata": {
    "tags": [],
    "cell_id": "00010-83bb8d70-4522-4d1f-98d5-65462d41196a",
    "deepnote_cell_type": "markdown"
   }
  },
  {
   "cell_type": "markdown",
   "source": "Once the conexion is made, and adictional option for the creation of cells¡ should be made available on Deepnote. It should be called ElectroSQL.\nIn order to verify that the conexion works properly you can open a new ElectroSQL cell and type in:\nSELECT * FROM ElectroSQL.clientes",
   "metadata": {
    "tags": [],
    "cell_id": "00011-8ddcc83c-2aa7-482c-98a7-d5b3b399cace",
    "deepnote_cell_type": "markdown"
   }
  },
  {
   "cell_type": "markdown",
   "source": "## SQL Queries",
   "metadata": {
    "tags": [],
    "is_collapsed": false,
    "cell_id": "00004-350e0987-9c6b-4be1-b2a0-0db1c73ebb3c",
    "deepnote_cell_type": "text-cell-h2"
   }
  },
  {
   "cell_type": "markdown",
   "source": "### Basic Queries",
   "metadata": {
    "tags": [],
    "is_collapsed": false,
    "cell_id": "00013-e940aa5e-0f08-4b61-b7f0-995fb9203726",
    "deepnote_cell_type": "text-cell-h3"
   }
  },
  {
   "cell_type": "markdown",
   "source": "First, you are going to run some basic queries in order to have a basic understanding of the business",
   "metadata": {
    "tags": [],
    "cell_id": "00014-7c2d3721-3b32-446b-8102-fddecdf34c00",
    "deepnote_cell_type": "markdown"
   }
  },
  {
   "cell_type": "markdown",
   "source": "Keep in mind all the available sentences that we can use in order to request information from the database\n- **Mandatory:**\n- **SELECT:** Columns or Attributes that I want to select\n- **FROM:** From which table do I bring the information\n- **Optional**\n- **WHERE:** Filter conditions, which rows are fetched, when grouped it does not need to be in select\n- **GROUP BY:** Grouping the data\n- **HAVING:** Filter on aggregated data\n- **ORDER BY:** Ordering the data\n- \n",
   "metadata": {
    "tags": [],
    "cell_id": "00014-4c3d689d-ed7c-4bd2-9bfd-f610f552140f",
    "deepnote_cell_type": "markdown"
   }
  },
  {
   "cell_type": "markdown",
   "source": "- There are also some logic functions that can be used:\n- **AND:** Sum of Conditions\n- **OR:** Either one of the two conditions\n- **NOT:** That does not meet a certain condition\n",
   "metadata": {
    "tags": [],
    "cell_id": "00015-1af03929-daa1-4a78-bd36-5ebab7d7d63e",
    "deepnote_cell_type": "markdown"
   }
  },
  {
   "cell_type": "markdown",
   "source": "- And some aggregation functions that can help us to perform basic mathematical operations:\n- **AVG ():** Average column average - Numbers\n- **COUNT ():** Amount of Data - Numbers\n- **DISTINCT ():** Different values in the column\n- **SUM ():** Sum of row data\n- **MAX ():** Maximum value in the column\n- **MIN ():** Minimum value in the column",
   "metadata": {
    "tags": [],
    "cell_id": "00016-f98a6b96-1533-4ed7-ae18-2429e352fec6",
    "deepnote_cell_type": "markdown"
   }
  },
  {
   "cell_type": "markdown",
   "source": "",
   "metadata": {
    "tags": [],
    "cell_id": "00015-2ad30859-17bf-460b-bf18-808a904f599f",
    "deepnote_cell_type": "markdown"
   }
  },
  {
   "cell_type": "markdown",
   "source": "**Question 1**",
   "metadata": {
    "tags": [],
    "cell_id": "00015-a47712d2-f828-452a-9b44-47e0c471e179",
    "deepnote_cell_type": "markdown"
   }
  },
  {
   "cell_type": "markdown",
   "source": "Which are the total amount of records in each one of the tables?",
   "metadata": {
    "tags": [],
    "cell_id": "00015-6285a00a-ec23-422e-93a1-ea78ad602488",
    "deepnote_cell_type": "markdown"
   }
  },
  {
   "cell_type": "markdown",
   "source": "**Answer**",
   "metadata": {
    "tags": [],
    "cell_id": "00017-20abd9ce-9a70-41d8-b315-a460d95938c7",
    "deepnote_cell_type": "markdown"
   }
  },
  {
   "cell_type": "markdown",
   "source": "",
   "metadata": {
    "tags": [],
    "cell_id": "00018-a90b6ac8-147f-4648-b8df-3500d7ff348d",
    "deepnote_cell_type": "markdown"
   }
  },
  {
   "cell_type": "markdown",
   "source": "**Question 2**",
   "metadata": {
    "tags": [],
    "cell_id": "00018-74b32e8c-2a0e-45cc-b3f5-202530516f9f",
    "deepnote_cell_type": "markdown"
   }
  },
  {
   "cell_type": "markdown",
   "source": "How many clients and products does the business have?",
   "metadata": {
    "tags": [],
    "cell_id": "00019-c6b6fc04-c8af-4aaf-9691-2d293c21baba",
    "deepnote_cell_type": "markdown"
   }
  },
  {
   "cell_type": "markdown",
   "source": "**Answer**",
   "metadata": {
    "tags": [],
    "cell_id": "00021-01aeecbf-bc70-4ad8-a181-717b9eb47082",
    "deepnote_cell_type": "markdown"
   }
  },
  {
   "cell_type": "markdown",
   "source": "",
   "metadata": {
    "tags": [],
    "cell_id": "00022-f4d97551-643a-436c-8885-7a02e7260ebd",
    "deepnote_cell_type": "markdown"
   }
  },
  {
   "cell_type": "markdown",
   "source": "**Question 3**",
   "metadata": {
    "tags": [],
    "cell_id": "00022-8e9edf78-bc85-4a00-ab37-dc0f58a7ec59",
    "deepnote_cell_type": "markdown"
   }
  },
  {
   "cell_type": "markdown",
   "source": "Which are the 3 more expensive transactions?",
   "metadata": {
    "tags": [],
    "cell_id": "00024-f320e4d5-d323-411a-be7d-3d15290754c0",
    "deepnote_cell_type": "markdown"
   }
  },
  {
   "cell_type": "markdown",
   "source": "**Answer**",
   "metadata": {
    "tags": [],
    "cell_id": "00025-72ec249b-b165-4148-99b2-b1b697dacbcd",
    "deepnote_cell_type": "markdown"
   }
  },
  {
   "cell_type": "markdown",
   "source": "",
   "metadata": {
    "tags": [],
    "cell_id": "00026-d1d69fa5-d1b5-4597-b36c-3cfc80e16e31",
    "deepnote_cell_type": "markdown"
   }
  },
  {
   "cell_type": "markdown",
   "source": "**Question 4**",
   "metadata": {
    "tags": [],
    "cell_id": "00026-1972a849-c4bb-43ae-88e0-9d5a51270017",
    "deepnote_cell_type": "markdown"
   }
  },
  {
   "cell_type": "markdown",
   "source": "From which supplier is each of the products purchased?",
   "metadata": {
    "tags": [],
    "cell_id": "00026-e270323e-9538-4c62-ac3f-b0903860ddc7",
    "deepnote_cell_type": "markdown"
   }
  },
  {
   "cell_type": "markdown",
   "source": "**Answer**",
   "metadata": {
    "tags": [],
    "cell_id": "00029-e4989549-5cc9-4e83-b05c-aa370147e47f",
    "deepnote_cell_type": "markdown"
   }
  },
  {
   "cell_type": "markdown",
   "source": "",
   "metadata": {
    "tags": [],
    "cell_id": "00030-9a13a89d-5c73-4956-a077-81eba2a5d661",
    "deepnote_cell_type": "markdown"
   }
  },
  {
   "cell_type": "markdown",
   "source": "**Question 5**",
   "metadata": {
    "tags": [],
    "cell_id": "00029-dea85dd5-eb17-4f34-9c06-bd124a5c5912",
    "deepnote_cell_type": "markdown"
   }
  },
  {
   "cell_type": "markdown",
   "source": "Which is the customer code of each customer that made each one of the purchases?",
   "metadata": {
    "tags": [],
    "cell_id": "00027-00949c0c-b00b-4573-9f34-84b621731a4c",
    "deepnote_cell_type": "markdown"
   }
  },
  {
   "cell_type": "markdown",
   "source": "**Answer**",
   "metadata": {
    "tags": [],
    "cell_id": "00033-2afc8267-8b91-467b-8925-bbcf6b9850b2",
    "deepnote_cell_type": "markdown"
   }
  },
  {
   "cell_type": "markdown",
   "source": "",
   "metadata": {
    "tags": [],
    "cell_id": "00034-40401e52-5d80-4f1e-bfe6-368bf6087de1",
    "deepnote_cell_type": "markdown"
   }
  },
  {
   "cell_type": "markdown",
   "source": "**Question 6**",
   "metadata": {
    "tags": [],
    "cell_id": "00035-9198eda5-20f7-4374-a6ed-9c9968306ff2",
    "deepnote_cell_type": "markdown"
   }
  },
  {
   "cell_type": "markdown",
   "source": "What sales were made via the Web?",
   "metadata": {
    "tags": [],
    "cell_id": "00036-41e6648d-12f9-4744-8735-dc666371121a",
    "deepnote_cell_type": "markdown"
   }
  },
  {
   "cell_type": "markdown",
   "source": "**Answer**",
   "metadata": {
    "tags": [],
    "cell_id": "00037-43650236-cc6e-407d-8090-9b18a75129c0",
    "deepnote_cell_type": "markdown"
   }
  },
  {
   "cell_type": "markdown",
   "source": "",
   "metadata": {
    "tags": [],
    "cell_id": "00038-066f3438-e1dc-4530-887d-dfed838438dc",
    "deepnote_cell_type": "markdown"
   }
  },
  {
   "cell_type": "markdown",
   "source": "**Question 7**",
   "metadata": {
    "tags": [],
    "cell_id": "00039-b8947120-a143-4631-aca6-2936964d6539",
    "deepnote_cell_type": "markdown"
   }
  },
  {
   "cell_type": "markdown",
   "source": "Which sales were worth more than 30.000? \n",
   "metadata": {
    "tags": [],
    "cell_id": "00040-f80dd048-daa3-4e20-abb3-b15650f7f3ea",
    "deepnote_cell_type": "markdown"
   }
  },
  {
   "cell_type": "markdown",
   "source": "**Answer**",
   "metadata": {
    "tags": [],
    "cell_id": "00040-1f1bffe3-9224-4fde-b3c7-02abe01c3058",
    "deepnote_cell_type": "markdown"
   }
  },
  {
   "cell_type": "markdown",
   "source": "",
   "metadata": {
    "tags": [],
    "cell_id": "00040-5d8bde9a-6277-4ce3-9205-8a71e2335313",
    "deepnote_cell_type": "markdown"
   }
  },
  {
   "cell_type": "markdown",
   "source": "**Question 8**",
   "metadata": {
    "tags": [],
    "cell_id": "00040-48ac0e05-7bfe-458f-9397-1d8be6f0e621",
    "deepnote_cell_type": "markdown"
   }
  },
  {
   "cell_type": "markdown",
   "source": "What sales were worth between 40.000 and 70.000?\n",
   "metadata": {
    "tags": [],
    "cell_id": "00040-1289227d-fbdb-4854-9212-7f815ed86117",
    "deepnote_cell_type": "markdown"
   }
  },
  {
   "cell_type": "markdown",
   "source": "**Answer**",
   "metadata": {
    "tags": [],
    "cell_id": "00040-48b9d0e8-632b-4c37-8509-0fea1dc3fc37",
    "deepnote_cell_type": "markdown"
   }
  },
  {
   "cell_type": "markdown",
   "source": "",
   "metadata": {
    "tags": [],
    "cell_id": "00040-8980e956-dcda-4dcf-a361-d8567483cca8",
    "deepnote_cell_type": "markdown"
   }
  },
  {
   "cell_type": "markdown",
   "source": "**Question 9**",
   "metadata": {
    "tags": [],
    "cell_id": "00047-2b983ed4-ca6b-4524-b548-1b6522fd4be0",
    "deepnote_cell_type": "markdown"
   }
  },
  {
   "cell_type": "markdown",
   "source": "How many sales were made in each one of the channels?",
   "metadata": {
    "tags": [],
    "cell_id": "00047-ed70e2c7-71ec-4d1c-b841-317cbfe5bfb3",
    "deepnote_cell_type": "markdown"
   }
  },
  {
   "cell_type": "markdown",
   "source": "**Answer**",
   "metadata": {
    "tags": [],
    "cell_id": "00047-a5baba2e-830d-498f-9075-3705fd4fc3c8",
    "deepnote_cell_type": "markdown"
   }
  },
  {
   "cell_type": "markdown",
   "source": "",
   "metadata": {
    "tags": [],
    "cell_id": "00047-a66e6414-b8be-404a-877f-aae4e0a468f7",
    "deepnote_cell_type": "markdown"
   }
  },
  {
   "cell_type": "markdown",
   "source": "**Question 10**",
   "metadata": {
    "tags": [],
    "cell_id": "00047-f455238d-2582-4569-9fe2-bd611df4bcf6",
    "deepnote_cell_type": "markdown"
   }
  },
  {
   "cell_type": "markdown",
   "source": "How many items of each were sold and which one sold the most? ",
   "metadata": {
    "tags": [],
    "cell_id": "00047-199a25cf-e836-4c6d-8590-bf4cd96888b9",
    "deepnote_cell_type": "markdown"
   }
  },
  {
   "cell_type": "markdown",
   "source": "**Answer**",
   "metadata": {
    "tags": [],
    "cell_id": "00040-f5823ed3-b6b4-4ba7-8ae9-18965cb72bc3",
    "deepnote_cell_type": "markdown"
   }
  },
  {
   "cell_type": "markdown",
   "source": "",
   "metadata": {
    "tags": [],
    "cell_id": "00054-d386db8a-6d0c-4c92-9f90-a19e03dd1b67",
    "deepnote_cell_type": "markdown"
   }
  },
  {
   "cell_type": "markdown",
   "source": "### Table Joins ",
   "metadata": {
    "tags": [],
    "is_collapsed": false,
    "cell_id": "00059-e24597ac-213b-49aa-882c-b7fc70675f6c",
    "deepnote_cell_type": "text-cell-h3"
   }
  },
  {
   "cell_type": "markdown",
   "source": "Depending on the result I want to get. These are the most common joins:\n\n- **Left Join:** The table on the left, supplemented by the data on the right\n- **Right Join:** The table on the left, supplemented by the data on the right\n- **Inner Join:** The intersection of the data from the two tables that are related\n- **Full Outer Join:** Complete join between the two tables ",
   "metadata": {
    "tags": [],
    "cell_id": "00060-b20bf707-309f-42c2-93eb-7c1e5108cf0c",
    "deepnote_cell_type": "markdown"
   }
  },
  {
   "cell_type": "markdown",
   "source": "<img src=/indu5000_Case_1/Images/SQL_Joins.png>",
   "metadata": {
    "tags": [],
    "cell_id": "00061-8dc1fcd1-68ce-46b7-bd08-4070349cfae4",
    "deepnote_cell_type": "markdown"
   }
  },
  {
   "cell_type": "markdown",
   "source": "[AAA](/Images/SQL Joins.png)",
   "metadata": {
    "tags": [],
    "cell_id": "00062-49d1a3a3-36e4-48f9-b5a8-dd20545853bb",
    "deepnote_cell_type": "markdown"
   }
  },
  {
   "cell_type": "markdown",
   "source": "**Question 11**",
   "metadata": {
    "tags": [],
    "cell_id": "00055-fddb530d-42b3-42e1-9806-3c68daa3493a",
    "deepnote_cell_type": "markdown"
   }
  },
  {
   "cell_type": "markdown",
   "source": "What is the color of the product sold in each of the transactions?",
   "metadata": {
    "tags": [],
    "cell_id": "00056-a1e25e07-df24-4221-9ea7-9dbcd81db875",
    "deepnote_cell_type": "markdown"
   }
  },
  {
   "cell_type": "markdown",
   "source": "**Answer**",
   "metadata": {
    "tags": [],
    "cell_id": "00056-db50ea56-a6d3-4209-8c3d-7f8a52f6432d",
    "deepnote_cell_type": "markdown"
   }
  },
  {
   "cell_type": "markdown",
   "source": "",
   "metadata": {
    "tags": [],
    "cell_id": "00056-372bfa5a-bfd5-4a9a-80f2-74346cc265b4",
    "deepnote_cell_type": "markdown"
   }
  },
  {
   "cell_type": "markdown",
   "source": "**Question 12**",
   "metadata": {
    "tags": [],
    "cell_id": "00057-9b0e01d0-d14d-461b-92a0-5d63485f2806",
    "deepnote_cell_type": "markdown"
   }
  },
  {
   "cell_type": "markdown",
   "source": "What is the average price for each of the product colors that are sold?",
   "metadata": {
    "tags": [],
    "cell_id": "00057-fb8ac6eb-cd9f-43eb-a6d1-7932cc924746",
    "deepnote_cell_type": "markdown"
   }
  },
  {
   "cell_type": "markdown",
   "source": "**Answer**",
   "metadata": {
    "tags": [],
    "cell_id": "00057-4f6d14bd-9678-4512-ae03-402f5d28f15b",
    "deepnote_cell_type": "markdown"
   }
  },
  {
   "cell_type": "markdown",
   "source": "",
   "metadata": {
    "tags": [],
    "cell_id": "00058-5a75870a-6c60-4eb0-a287-de4cb67ac245",
    "deepnote_cell_type": "markdown"
   }
  },
  {
   "cell_type": "markdown",
   "source": "**Question 13**",
   "metadata": {
    "tags": [],
    "cell_id": "00058-a2bc6660-adcd-4520-b97a-ee49d3669d0d",
    "deepnote_cell_type": "markdown"
   }
  },
  {
   "cell_type": "markdown",
   "source": "How many products for each supplier are sold in channels that are not resellers ('Tercero') and whose average price is greater than 45,000? - Sorting them from Highest to Lowest in quantity",
   "metadata": {
    "tags": [],
    "cell_id": "00071-0123734b-48d5-406e-8970-6dab849a9c93",
    "deepnote_cell_type": "markdown"
   }
  },
  {
   "cell_type": "markdown",
   "source": "**Answer**",
   "metadata": {
    "tags": [],
    "cell_id": "00072-7676e78b-682a-4731-ada2-6325bd926caf",
    "deepnote_cell_type": "markdown"
   }
  },
  {
   "cell_type": "markdown",
   "source": "",
   "metadata": {
    "tags": [],
    "cell_id": "00073-5b110258-857a-4517-aa83-f176f2706c3c",
    "deepnote_cell_type": "markdown"
   }
  },
  {
   "cell_type": "markdown",
   "source": "**Question 14**",
   "metadata": {
    "tags": [],
    "cell_id": "00073-cd241696-b050-4572-9626-e92d81139694",
    "deepnote_cell_type": "markdown"
   }
  },
  {
   "cell_type": "markdown",
   "source": "Which channels had transactions for more than 30,000 of products purchased at Juanito_tech and have average sales greater than 50,000?\n",
   "metadata": {
    "tags": [],
    "cell_id": "00073-c0c4131d-199b-4eec-8dec-275b76956d15",
    "deepnote_cell_type": "markdown"
   }
  },
  {
   "cell_type": "markdown",
   "source": "**Answer**",
   "metadata": {
    "tags": [],
    "cell_id": "00073-bc8108b2-58b6-41f9-982d-22b67abec24b",
    "deepnote_cell_type": "markdown"
   }
  },
  {
   "cell_type": "markdown",
   "source": "",
   "metadata": {
    "tags": [],
    "cell_id": "00073-32afcc13-7014-42c2-acd3-c216aa99b480",
    "deepnote_cell_type": "markdown"
   }
  },
  {
   "cell_type": "markdown",
   "source": "**Question 15**",
   "metadata": {
    "tags": [],
    "cell_id": "00073-1fbec662-69b8-4cdb-b441-44ba41a07516",
    "deepnote_cell_type": "markdown"
   }
  },
  {
   "cell_type": "markdown",
   "source": "Let's add total sales by product to the PRODUCT table",
   "metadata": {
    "tags": [],
    "cell_id": "00079-eb6f70e4-04ec-4809-8c94-67d46a5c14f1",
    "deepnote_cell_type": "markdown"
   }
  },
  {
   "cell_type": "markdown",
   "source": "**Answer**",
   "metadata": {
    "tags": [],
    "cell_id": "00079-05edef0a-b4b5-4338-86b6-0f54ed0a7cf2",
    "deepnote_cell_type": "markdown"
   }
  },
  {
   "cell_type": "markdown",
   "source": "",
   "metadata": {
    "tags": [],
    "cell_id": "00079-b2925803-d6ff-489a-8c80-4a3ff8d4fd73",
    "deepnote_cell_type": "markdown"
   }
  },
  {
   "cell_type": "markdown",
   "source": "**Question 16**",
   "metadata": {
    "tags": [],
    "cell_id": "00079-cb3fa337-4a59-4187-8e8c-8e72bf65741d",
    "deepnote_cell_type": "markdown"
   }
  },
  {
   "cell_type": "markdown",
   "source": "At what average price are each of the colors sold?",
   "metadata": {
    "tags": [],
    "cell_id": "00084-af1c6d5c-26b2-46dd-b2f3-cad3ffb8904f",
    "deepnote_cell_type": "markdown"
   }
  },
  {
   "cell_type": "markdown",
   "source": "**Answer**",
   "metadata": {
    "tags": [],
    "cell_id": "00084-41747e1c-c7c7-46d3-b7eb-9b16531879b6",
    "deepnote_cell_type": "markdown"
   }
  },
  {
   "cell_type": "code",
   "metadata": {
    "tags": [],
    "deepnote_variable_name": "df_1",
    "sql_integration_id": "bf5f6fda-0bb4-4ad5-b9eb-0c2e93f79886",
    "cell_id": "00023-fdc5c490-6342-44f4-9fa1-7ce7303d032f",
    "deepnote_to_be_reexecuted": false,
    "source_hash": "2d2d0fc3",
    "execution_start": 1629934521043,
    "execution_millis": 45,
    "deepnote_sql_source": "SELECT * FROM ElectroSQL.clientes",
    "deepnote_cell_type": "sql"
   },
   "source": "\n\ndf_1 = _deepnote_execute_sql(\"\"\"SELECT * FROM ElectroSQL.clientes\n\"\"\", 'SQL_BF5F6FDA_0BB4_4AD5_B9EB_0C2E93F79886')\ndf_1",
   "execution_count": 2,
   "outputs": [
    {
     "output_type": "execute_result",
     "execution_count": 2,
     "data": {
      "application/vnd.deepnote.dataframe.v2+json": {
       "row_count": 17,
       "column_count": 4,
       "columns": [
        {
         "name": "cliente_id",
         "dtype": "object",
         "stats": {
          "unique_count": 17,
          "nan_count": 0,
          "categories": [
           {
            "name": "OGNNG",
            "count": 1
           },
           {
            "name": "BLJCH",
            "count": 1
           },
           {
            "name": "15 others",
            "count": 15
           }
          ]
         }
        },
        {
         "name": "nombre",
         "dtype": "object",
         "stats": {
          "unique_count": 16,
          "nan_count": 0,
          "categories": [
           {
            "name": "ANDRES",
            "count": 2
           },
           {
            "name": "PEDRO",
            "count": 1
           },
           {
            "name": "14 others",
            "count": 14
           }
          ]
         }
        },
        {
         "name": "apellido",
         "dtype": "object",
         "stats": {
          "unique_count": 17,
          "nan_count": 0,
          "categories": [
           {
            "name": "PASCAL",
            "count": 1
           },
           {
            "name": "LOPEZ",
            "count": 1
           },
           {
            "name": "15 others",
            "count": 15
           }
          ]
         }
        },
        {
         "name": "ciudad",
         "dtype": "object",
         "stats": {
          "unique_count": 6,
          "nan_count": 0,
          "categories": [
           {
            "name": "MEDELLIN",
            "count": 5
           },
           {
            "name": "BOGOTÁ",
            "count": 4
           },
           {
            "name": "4 others",
            "count": 8
           }
          ]
         }
        },
        {
         "name": "_deepnote_index_column",
         "dtype": "int64"
        }
       ],
       "rows_top": [
        {
         "cliente_id": "OGNNG",
         "nombre": "PEDRO",
         "apellido": "PASCAL",
         "ciudad": "CARTAGENA",
         "_deepnote_index_column": 0
        },
        {
         "cliente_id": "BLJCH",
         "nombre": "ANDRES",
         "apellido": "LOPEZ",
         "ciudad": "BARRANQUILLA",
         "_deepnote_index_column": 1
        },
        {
         "cliente_id": "MBKAO",
         "nombre": "ARMANDO",
         "apellido": "MENDOZA",
         "ciudad": "MEDELLIN",
         "_deepnote_index_column": 2
        },
        {
         "cliente_id": "CMLGF",
         "nombre": "LAURA",
         "apellido": "SUAREZ",
         "ciudad": "CALI",
         "_deepnote_index_column": 3
        },
        {
         "cliente_id": "HGBBK",
         "nombre": "VALENTINA",
         "apellido": "GOMEZ",
         "ciudad": "MEDELLIN",
         "_deepnote_index_column": 4
        },
        {
         "cliente_id": "JFAOD",
         "nombre": "SOFIA",
         "apellido": "CHAPARRO",
         "ciudad": "BOGOTÁ",
         "_deepnote_index_column": 5
        },
        {
         "cliente_id": "AMHGA",
         "nombre": "JOSE",
         "apellido": "HERRERA",
         "ciudad": "CARTAGENA",
         "_deepnote_index_column": 6
        },
        {
         "cliente_id": "ELDJL",
         "nombre": "FRANCISCO",
         "apellido": "GIRALDO",
         "ciudad": "BOGOTÁ",
         "_deepnote_index_column": 7
        },
        {
         "cliente_id": "GDCHI",
         "nombre": "ROSA",
         "apellido": "GONZALES",
         "ciudad": "MEDELLIN",
         "_deepnote_index_column": 8
        },
        {
         "cliente_id": "BMEBC",
         "nombre": "MARIA",
         "apellido": "RODRIGUEZ",
         "ciudad": "MEDELLIN",
         "_deepnote_index_column": 9
        },
        {
         "cliente_id": "EJDAB",
         "nombre": "MARTA",
         "apellido": "SANCHEZ",
         "ciudad": "BOGOTÁ",
         "_deepnote_index_column": 10
        },
        {
         "cliente_id": "NOFBA",
         "nombre": "BRAYAN",
         "apellido": "FONSECA",
         "ciudad": "CALI",
         "_deepnote_index_column": 11
        },
        {
         "cliente_id": "JKHLF",
         "nombre": "RAFAEL",
         "apellido": "OROZCO",
         "ciudad": "CARTAGENA",
         "_deepnote_index_column": 12
        },
        {
         "cliente_id": "EFHOP",
         "nombre": "MARLON",
         "apellido": "MORENO",
         "ciudad": "MEDELLIN",
         "_deepnote_index_column": 13
        },
        {
         "cliente_id": "AAOFM",
         "nombre": "GREICY",
         "apellido": "RENDON",
         "ciudad": "BOGOTÁ",
         "_deepnote_index_column": 14
        },
        {
         "cliente_id": "GHJKL",
         "nombre": "CARLOS",
         "apellido": "VIVES",
         "ciudad": "SANTA MARTA",
         "_deepnote_index_column": 15
        },
        {
         "cliente_id": "PIDDI",
         "nombre": "ANDRES",
         "apellido": "JARAMILLO",
         "ciudad": "SANTA MARTA",
         "_deepnote_index_column": 16
        }
       ],
       "rows_bottom": null
      },
      "text/plain": "   cliente_id     nombre   apellido        ciudad\n0       OGNNG      PEDRO     PASCAL     CARTAGENA\n1       BLJCH     ANDRES      LOPEZ  BARRANQUILLA\n2       MBKAO    ARMANDO    MENDOZA      MEDELLIN\n3       CMLGF      LAURA     SUAREZ          CALI\n4       HGBBK  VALENTINA      GOMEZ      MEDELLIN\n5       JFAOD      SOFIA   CHAPARRO        BOGOTÁ\n6       AMHGA       JOSE    HERRERA     CARTAGENA\n7       ELDJL  FRANCISCO    GIRALDO        BOGOTÁ\n8       GDCHI       ROSA   GONZALES      MEDELLIN\n9       BMEBC      MARIA  RODRIGUEZ      MEDELLIN\n10      EJDAB      MARTA    SANCHEZ        BOGOTÁ\n11      NOFBA     BRAYAN    FONSECA          CALI\n12      JKHLF     RAFAEL     OROZCO     CARTAGENA\n13      EFHOP     MARLON     MORENO      MEDELLIN\n14      AAOFM     GREICY     RENDON        BOGOTÁ\n15      GHJKL     CARLOS      VIVES   SANTA MARTA\n16      PIDDI     ANDRES  JARAMILLO   SANTA MARTA",
      "text/html": "<div>\n<style scoped>\n    .dataframe tbody tr th:only-of-type {\n        vertical-align: middle;\n    }\n\n    .dataframe tbody tr th {\n        vertical-align: top;\n    }\n\n    .dataframe thead th {\n        text-align: right;\n    }\n</style>\n<table border=\"1\" class=\"dataframe\">\n  <thead>\n    <tr style=\"text-align: right;\">\n      <th></th>\n      <th>cliente_id</th>\n      <th>nombre</th>\n      <th>apellido</th>\n      <th>ciudad</th>\n    </tr>\n  </thead>\n  <tbody>\n    <tr>\n      <th>0</th>\n      <td>OGNNG</td>\n      <td>PEDRO</td>\n      <td>PASCAL</td>\n      <td>CARTAGENA</td>\n    </tr>\n    <tr>\n      <th>1</th>\n      <td>BLJCH</td>\n      <td>ANDRES</td>\n      <td>LOPEZ</td>\n      <td>BARRANQUILLA</td>\n    </tr>\n    <tr>\n      <th>2</th>\n      <td>MBKAO</td>\n      <td>ARMANDO</td>\n      <td>MENDOZA</td>\n      <td>MEDELLIN</td>\n    </tr>\n    <tr>\n      <th>3</th>\n      <td>CMLGF</td>\n      <td>LAURA</td>\n      <td>SUAREZ</td>\n      <td>CALI</td>\n    </tr>\n    <tr>\n      <th>4</th>\n      <td>HGBBK</td>\n      <td>VALENTINA</td>\n      <td>GOMEZ</td>\n      <td>MEDELLIN</td>\n    </tr>\n    <tr>\n      <th>5</th>\n      <td>JFAOD</td>\n      <td>SOFIA</td>\n      <td>CHAPARRO</td>\n      <td>BOGOTÁ</td>\n    </tr>\n    <tr>\n      <th>6</th>\n      <td>AMHGA</td>\n      <td>JOSE</td>\n      <td>HERRERA</td>\n      <td>CARTAGENA</td>\n    </tr>\n    <tr>\n      <th>7</th>\n      <td>ELDJL</td>\n      <td>FRANCISCO</td>\n      <td>GIRALDO</td>\n      <td>BOGOTÁ</td>\n    </tr>\n    <tr>\n      <th>8</th>\n      <td>GDCHI</td>\n      <td>ROSA</td>\n      <td>GONZALES</td>\n      <td>MEDELLIN</td>\n    </tr>\n    <tr>\n      <th>9</th>\n      <td>BMEBC</td>\n      <td>MARIA</td>\n      <td>RODRIGUEZ</td>\n      <td>MEDELLIN</td>\n    </tr>\n    <tr>\n      <th>10</th>\n      <td>EJDAB</td>\n      <td>MARTA</td>\n      <td>SANCHEZ</td>\n      <td>BOGOTÁ</td>\n    </tr>\n    <tr>\n      <th>11</th>\n      <td>NOFBA</td>\n      <td>BRAYAN</td>\n      <td>FONSECA</td>\n      <td>CALI</td>\n    </tr>\n    <tr>\n      <th>12</th>\n      <td>JKHLF</td>\n      <td>RAFAEL</td>\n      <td>OROZCO</td>\n      <td>CARTAGENA</td>\n    </tr>\n    <tr>\n      <th>13</th>\n      <td>EFHOP</td>\n      <td>MARLON</td>\n      <td>MORENO</td>\n      <td>MEDELLIN</td>\n    </tr>\n    <tr>\n      <th>14</th>\n      <td>AAOFM</td>\n      <td>GREICY</td>\n      <td>RENDON</td>\n      <td>BOGOTÁ</td>\n    </tr>\n    <tr>\n      <th>15</th>\n      <td>GHJKL</td>\n      <td>CARLOS</td>\n      <td>VIVES</td>\n      <td>SANTA MARTA</td>\n    </tr>\n    <tr>\n      <th>16</th>\n      <td>PIDDI</td>\n      <td>ANDRES</td>\n      <td>JARAMILLO</td>\n      <td>SANTA MARTA</td>\n    </tr>\n  </tbody>\n</table>\n</div>"
     },
     "metadata": {}
    }
   ]
  },
  {
   "cell_type": "code",
   "metadata": {
    "tags": [],
    "deepnote_variable_name": "df_2",
    "sql_integration_id": "bf5f6fda-0bb4-4ad5-b9eb-0c2e93f79886",
    "cell_id": "00024-e4cc767c-a64b-40bc-9980-6faa3a3ddf1c",
    "deepnote_to_be_reexecuted": false,
    "source_hash": "57c1d646",
    "execution_start": 1629934549312,
    "execution_millis": 62,
    "deepnote_sql_source": "SELECT * FROM \"electrosql\".\"productos\"",
    "deepnote_cell_type": "sql"
   },
   "source": "\n\ndf_2 = _deepnote_execute_sql(\"\"\"SELECT * FROM \"electrosql\".\"productos\"\n\"\"\", 'SQL_BF5F6FDA_0BB4_4AD5_B9EB_0C2E93F79886')\ndf_2",
   "execution_count": 3,
   "outputs": [
    {
     "output_type": "execute_result",
     "execution_count": 3,
     "data": {
      "application/vnd.deepnote.dataframe.v2+json": {
       "row_count": 5,
       "column_count": 4,
       "columns": [
        {
         "name": "productos_id",
         "dtype": "int64",
         "stats": {
          "unique_count": 5,
          "nan_count": 0,
          "min": "68",
          "max": "86",
          "histogram": [
           {
            "bin_start": 68,
            "bin_end": 69.8,
            "count": 1
           },
           {
            "bin_start": 69.8,
            "bin_end": 71.6,
            "count": 1
           },
           {
            "bin_start": 71.6,
            "bin_end": 73.4,
            "count": 0
           },
           {
            "bin_start": 73.4,
            "bin_end": 75.2,
            "count": 0
           },
           {
            "bin_start": 75.2,
            "bin_end": 77,
            "count": 0
           },
           {
            "bin_start": 77,
            "bin_end": 78.8,
            "count": 1
           },
           {
            "bin_start": 78.8,
            "bin_end": 80.6,
            "count": 1
           },
           {
            "bin_start": 80.6,
            "bin_end": 82.4,
            "count": 0
           },
           {
            "bin_start": 82.4,
            "bin_end": 84.2,
            "count": 0
           },
           {
            "bin_start": 84.2,
            "bin_end": 86,
            "count": 1
           }
          ]
         }
        },
        {
         "name": "producto",
         "dtype": "object",
         "stats": {
          "unique_count": 5,
          "nan_count": 0,
          "categories": [
           {
            "name": "A_Inalambrico",
            "count": 1
           },
           {
            "name": "Parlante",
            "count": 1
           },
           {
            "name": "3 others",
            "count": 3
           }
          ]
         }
        },
        {
         "name": "color",
         "dtype": "object",
         "stats": {
          "unique_count": 4,
          "nan_count": 0,
          "categories": [
           {
            "name": "Negro",
            "count": 2
           },
           {
            "name": "Azul",
            "count": 1
           },
           {
            "name": "2 others",
            "count": 2
           }
          ]
         }
        },
        {
         "name": "proveedor",
         "dtype": "object",
         "stats": {
          "unique_count": 3,
          "nan_count": 0,
          "categories": [
           {
            "name": "Distribuciones_Pepito",
            "count": 2
           },
           {
            "name": "Juanito_tech",
            "count": 2
           },
           {
            "name": "Club_de_Tecnología",
            "count": 1
           }
          ]
         }
        },
        {
         "name": "_deepnote_index_column",
         "dtype": "int64"
        }
       ],
       "rows_top": [
        {
         "productos_id": 79,
         "producto": "A_Inalambrico",
         "color": "Negro",
         "proveedor": "Distribuciones_Pepito",
         "_deepnote_index_column": 0
        },
        {
         "productos_id": 77,
         "producto": "Parlante",
         "color": "Azul",
         "proveedor": "Club_de_Tecnología",
         "_deepnote_index_column": 1
        },
        {
         "productos_id": 70,
         "producto": "A_Diadema",
         "color": "Blanco",
         "proveedor": "Juanito_tech",
         "_deepnote_index_column": 2
        },
        {
         "productos_id": 68,
         "producto": "Microfono",
         "color": "Gris",
         "proveedor": "Distribuciones_Pepito",
         "_deepnote_index_column": 3
        },
        {
         "productos_id": 86,
         "producto": "Cable",
         "color": "Negro",
         "proveedor": "Juanito_tech",
         "_deepnote_index_column": 4
        }
       ],
       "rows_bottom": null
      },
      "text/plain": "   productos_id       producto   color              proveedor\n0            79  A_Inalambrico   Negro  Distribuciones_Pepito\n1            77       Parlante    Azul     Club_de_Tecnología\n2            70      A_Diadema  Blanco           Juanito_tech\n3            68      Microfono    Gris  Distribuciones_Pepito\n4            86          Cable   Negro           Juanito_tech",
      "text/html": "<div>\n<style scoped>\n    .dataframe tbody tr th:only-of-type {\n        vertical-align: middle;\n    }\n\n    .dataframe tbody tr th {\n        vertical-align: top;\n    }\n\n    .dataframe thead th {\n        text-align: right;\n    }\n</style>\n<table border=\"1\" class=\"dataframe\">\n  <thead>\n    <tr style=\"text-align: right;\">\n      <th></th>\n      <th>productos_id</th>\n      <th>producto</th>\n      <th>color</th>\n      <th>proveedor</th>\n    </tr>\n  </thead>\n  <tbody>\n    <tr>\n      <th>0</th>\n      <td>79</td>\n      <td>A_Inalambrico</td>\n      <td>Negro</td>\n      <td>Distribuciones_Pepito</td>\n    </tr>\n    <tr>\n      <th>1</th>\n      <td>77</td>\n      <td>Parlante</td>\n      <td>Azul</td>\n      <td>Club_de_Tecnología</td>\n    </tr>\n    <tr>\n      <th>2</th>\n      <td>70</td>\n      <td>A_Diadema</td>\n      <td>Blanco</td>\n      <td>Juanito_tech</td>\n    </tr>\n    <tr>\n      <th>3</th>\n      <td>68</td>\n      <td>Microfono</td>\n      <td>Gris</td>\n      <td>Distribuciones_Pepito</td>\n    </tr>\n    <tr>\n      <th>4</th>\n      <td>86</td>\n      <td>Cable</td>\n      <td>Negro</td>\n      <td>Juanito_tech</td>\n    </tr>\n  </tbody>\n</table>\n</div>"
     },
     "metadata": {}
    }
   ]
  },
  {
   "cell_type": "code",
   "metadata": {
    "tags": [],
    "deepnote_variable_name": "df_3",
    "sql_integration_id": "bf5f6fda-0bb4-4ad5-b9eb-0c2e93f79886",
    "cell_id": "00025-621c4bc2-e925-47b8-bcac-9f8bc016d339",
    "deepnote_to_be_reexecuted": false,
    "source_hash": "16d4a436",
    "execution_start": 1629934574023,
    "execution_millis": 69,
    "deepnote_sql_source": "SELECT * FROM \"electrosql\".\"transacciones\"",
    "deepnote_cell_type": "sql"
   },
   "source": "\n\ndf_3 = _deepnote_execute_sql(\"\"\"SELECT * FROM \"electrosql\".\"transacciones\"\n\"\"\", 'SQL_BF5F6FDA_0BB4_4AD5_B9EB_0C2E93F79886')\ndf_3",
   "execution_count": 4,
   "outputs": [
    {
     "output_type": "execute_result",
     "execution_count": 4,
     "data": {
      "application/vnd.deepnote.dataframe.v2+json": {
       "row_count": 25,
       "column_count": 5,
       "columns": [
        {
         "name": "transaccion_id",
         "dtype": "int64",
         "stats": {
          "unique_count": 25,
          "nan_count": 0,
          "min": "1",
          "max": "25",
          "histogram": [
           {
            "bin_start": 1,
            "bin_end": 3.4,
            "count": 3
           },
           {
            "bin_start": 3.4,
            "bin_end": 5.8,
            "count": 2
           },
           {
            "bin_start": 5.8,
            "bin_end": 8.2,
            "count": 3
           },
           {
            "bin_start": 8.2,
            "bin_end": 10.6,
            "count": 2
           },
           {
            "bin_start": 10.6,
            "bin_end": 13,
            "count": 2
           },
           {
            "bin_start": 13,
            "bin_end": 15.399999999999999,
            "count": 3
           },
           {
            "bin_start": 15.399999999999999,
            "bin_end": 17.8,
            "count": 2
           },
           {
            "bin_start": 17.8,
            "bin_end": 20.2,
            "count": 3
           },
           {
            "bin_start": 20.2,
            "bin_end": 22.599999999999998,
            "count": 2
           },
           {
            "bin_start": 22.599999999999998,
            "bin_end": 25,
            "count": 3
           }
          ]
         }
        },
        {
         "name": "cliente_id",
         "dtype": "object",
         "stats": {
          "unique_count": 17,
          "nan_count": 0,
          "categories": [
           {
            "name": "CMLGF",
            "count": 5
           },
           {
            "name": "BMEBC",
            "count": 3
           },
           {
            "name": "15 others",
            "count": 17
           }
          ]
         }
        },
        {
         "name": "canal",
         "dtype": "object",
         "stats": {
          "unique_count": 3,
          "nan_count": 0,
          "categories": [
           {
            "name": "Tercero",
            "count": 10
           },
           {
            "name": "Tienda",
            "count": 10
           },
           {
            "name": "Web",
            "count": 5
           }
          ]
         }
        },
        {
         "name": "producto",
         "dtype": "object",
         "stats": {
          "unique_count": 3,
          "nan_count": 0,
          "categories": [
           {
            "name": "A_Inalambrico",
            "count": 11
           },
           {
            "name": "Parlante",
            "count": 8
           },
           {
            "name": "A_Diadema",
            "count": 6
           }
          ]
         }
        },
        {
         "name": "precio",
         "dtype": "int64",
         "stats": {
          "unique_count": 17,
          "nan_count": 0,
          "min": "11000",
          "max": "95000",
          "histogram": [
           {
            "bin_start": 11000,
            "bin_end": 19400,
            "count": 3
           },
           {
            "bin_start": 19400,
            "bin_end": 27800,
            "count": 3
           },
           {
            "bin_start": 27800,
            "bin_end": 36200,
            "count": 7
           },
           {
            "bin_start": 36200,
            "bin_end": 44600,
            "count": 1
           },
           {
            "bin_start": 44600,
            "bin_end": 53000,
            "count": 1
           },
           {
            "bin_start": 53000,
            "bin_end": 61400,
            "count": 2
           },
           {
            "bin_start": 61400,
            "bin_end": 69800,
            "count": 0
           },
           {
            "bin_start": 69800,
            "bin_end": 78200,
            "count": 2
           },
           {
            "bin_start": 78200,
            "bin_end": 86600,
            "count": 0
           },
           {
            "bin_start": 86600,
            "bin_end": 95000,
            "count": 6
           }
          ]
         }
        },
        {
         "name": "_deepnote_index_column",
         "dtype": "int64"
        }
       ],
       "rows_top": [
        {
         "transaccion_id": 1,
         "cliente_id": "PIDDI",
         "canal": "Tercero",
         "producto": "A_Inalambrico",
         "precio": 43000,
         "_deepnote_index_column": 0
        },
        {
         "transaccion_id": 2,
         "cliente_id": "EJDAB",
         "canal": "Tienda",
         "producto": "Parlante",
         "precio": 91000,
         "_deepnote_index_column": 1
        },
        {
         "transaccion_id": 3,
         "cliente_id": "BMEBC",
         "canal": "Web",
         "producto": "A_Diadema",
         "precio": 93000,
         "_deepnote_index_column": 2
        },
        {
         "transaccion_id": 4,
         "cliente_id": "AMHGA",
         "canal": "Tercero",
         "producto": "A_Inalambrico",
         "precio": 11000,
         "_deepnote_index_column": 3
        },
        {
         "transaccion_id": 5,
         "cliente_id": "EFHOP",
         "canal": "Tienda",
         "producto": "A_Inalambrico",
         "precio": 26000,
         "_deepnote_index_column": 4
        },
        {
         "transaccion_id": 6,
         "cliente_id": "GDCHI",
         "canal": "Tercero",
         "producto": "A_Diadema",
         "precio": 56000,
         "_deepnote_index_column": 5
        },
        {
         "transaccion_id": 7,
         "cliente_id": "BMEBC",
         "canal": "Tienda",
         "producto": "A_Inalambrico",
         "precio": 77000,
         "_deepnote_index_column": 6
        },
        {
         "transaccion_id": 8,
         "cliente_id": "JFAOD",
         "canal": "Tercero",
         "producto": "Parlante",
         "precio": 93000,
         "_deepnote_index_column": 7
        },
        {
         "transaccion_id": 9,
         "cliente_id": "BLJCH",
         "canal": "Tienda",
         "producto": "Parlante",
         "precio": 28000,
         "_deepnote_index_column": 8
        },
        {
         "transaccion_id": 10,
         "cliente_id": "CMLGF",
         "canal": "Tercero",
         "producto": "A_Inalambrico",
         "precio": 78000,
         "_deepnote_index_column": 9
        },
        {
         "transaccion_id": 11,
         "cliente_id": "KDPHE",
         "canal": "Tienda",
         "producto": "A_Diadema",
         "precio": 32000,
         "_deepnote_index_column": 10
        },
        {
         "transaccion_id": 12,
         "cliente_id": "OGNNG",
         "canal": "Web",
         "producto": "A_Inalambrico",
         "precio": 35000,
         "_deepnote_index_column": 11
        },
        {
         "transaccion_id": 13,
         "cliente_id": "CMLGF",
         "canal": "Tercero",
         "producto": "A_Inalambrico",
         "precio": 95000,
         "_deepnote_index_column": 12
        },
        {
         "transaccion_id": 14,
         "cliente_id": "JKHLF",
         "canal": "Tercero",
         "producto": "Parlante",
         "precio": 22000,
         "_deepnote_index_column": 13
        },
        {
         "transaccion_id": 15,
         "cliente_id": "GDCHI",
         "canal": "Tienda",
         "producto": "Parlante",
         "precio": 28000,
         "_deepnote_index_column": 14
        },
        {
         "transaccion_id": 16,
         "cliente_id": "CMLGF",
         "canal": "Tienda",
         "producto": "A_Diadema",
         "precio": 32000,
         "_deepnote_index_column": 15
        },
        {
         "transaccion_id": 17,
         "cliente_id": "MBKAO",
         "canal": "Web",
         "producto": "Parlante",
         "precio": 28000,
         "_deepnote_index_column": 16
        },
        {
         "transaccion_id": 18,
         "cliente_id": "BMEBC",
         "canal": "Tercero",
         "producto": "A_Inalambrico",
         "precio": 51000,
         "_deepnote_index_column": 17
        },
        {
         "transaccion_id": 19,
         "cliente_id": "NOFBA",
         "canal": "Web",
         "producto": "Parlante",
         "precio": 58000,
         "_deepnote_index_column": 18
        },
        {
         "transaccion_id": 20,
         "cliente_id": "ELDJL",
         "canal": "Tercero",
         "producto": "Parlante",
         "precio": 22000,
         "_deepnote_index_column": 19
        },
        {
         "transaccion_id": 21,
         "cliente_id": "CMLGF",
         "canal": "Tienda",
         "producto": "A_Inalambrico",
         "precio": 12000,
         "_deepnote_index_column": 20
        },
        {
         "transaccion_id": 22,
         "cliente_id": "GDCHI",
         "canal": "Web",
         "producto": "A_Inalambrico",
         "precio": 93000,
         "_deepnote_index_column": 21
        },
        {
         "transaccion_id": 23,
         "cliente_id": "HGBBK",
         "canal": "Tienda",
         "producto": "A_Inalambrico",
         "precio": 28000,
         "_deepnote_index_column": 22
        },
        {
         "transaccion_id": 24,
         "cliente_id": "AAOFM",
         "canal": "Tercero",
         "producto": "A_Diadema",
         "precio": 94000,
         "_deepnote_index_column": 23
        },
        {
         "transaccion_id": 25,
         "cliente_id": "CMLGF",
         "canal": "Tienda",
         "producto": "A_Diadema",
         "precio": 11000,
         "_deepnote_index_column": 24
        }
       ],
       "rows_bottom": null
      },
      "text/plain": "    transaccion_id cliente_id    canal       producto  precio\n0                1      PIDDI  Tercero  A_Inalambrico   43000\n1                2      EJDAB   Tienda       Parlante   91000\n2                3      BMEBC      Web      A_Diadema   93000\n3                4      AMHGA  Tercero  A_Inalambrico   11000\n4                5      EFHOP   Tienda  A_Inalambrico   26000\n5                6      GDCHI  Tercero      A_Diadema   56000\n6                7      BMEBC   Tienda  A_Inalambrico   77000\n7                8      JFAOD  Tercero       Parlante   93000\n8                9      BLJCH   Tienda       Parlante   28000\n9               10      CMLGF  Tercero  A_Inalambrico   78000\n10              11      KDPHE   Tienda      A_Diadema   32000\n11              12      OGNNG      Web  A_Inalambrico   35000\n12              13      CMLGF  Tercero  A_Inalambrico   95000\n13              14      JKHLF  Tercero       Parlante   22000\n14              15      GDCHI   Tienda       Parlante   28000\n15              16      CMLGF   Tienda      A_Diadema   32000\n16              17      MBKAO      Web       Parlante   28000\n17              18      BMEBC  Tercero  A_Inalambrico   51000\n18              19      NOFBA      Web       Parlante   58000\n19              20      ELDJL  Tercero       Parlante   22000\n20              21      CMLGF   Tienda  A_Inalambrico   12000\n21              22      GDCHI      Web  A_Inalambrico   93000\n22              23      HGBBK   Tienda  A_Inalambrico   28000\n23              24      AAOFM  Tercero      A_Diadema   94000\n24              25      CMLGF   Tienda      A_Diadema   11000",
      "text/html": "<div>\n<style scoped>\n    .dataframe tbody tr th:only-of-type {\n        vertical-align: middle;\n    }\n\n    .dataframe tbody tr th {\n        vertical-align: top;\n    }\n\n    .dataframe thead th {\n        text-align: right;\n    }\n</style>\n<table border=\"1\" class=\"dataframe\">\n  <thead>\n    <tr style=\"text-align: right;\">\n      <th></th>\n      <th>transaccion_id</th>\n      <th>cliente_id</th>\n      <th>canal</th>\n      <th>producto</th>\n      <th>precio</th>\n    </tr>\n  </thead>\n  <tbody>\n    <tr>\n      <th>0</th>\n      <td>1</td>\n      <td>PIDDI</td>\n      <td>Tercero</td>\n      <td>A_Inalambrico</td>\n      <td>43000</td>\n    </tr>\n    <tr>\n      <th>1</th>\n      <td>2</td>\n      <td>EJDAB</td>\n      <td>Tienda</td>\n      <td>Parlante</td>\n      <td>91000</td>\n    </tr>\n    <tr>\n      <th>2</th>\n      <td>3</td>\n      <td>BMEBC</td>\n      <td>Web</td>\n      <td>A_Diadema</td>\n      <td>93000</td>\n    </tr>\n    <tr>\n      <th>3</th>\n      <td>4</td>\n      <td>AMHGA</td>\n      <td>Tercero</td>\n      <td>A_Inalambrico</td>\n      <td>11000</td>\n    </tr>\n    <tr>\n      <th>4</th>\n      <td>5</td>\n      <td>EFHOP</td>\n      <td>Tienda</td>\n      <td>A_Inalambrico</td>\n      <td>26000</td>\n    </tr>\n    <tr>\n      <th>5</th>\n      <td>6</td>\n      <td>GDCHI</td>\n      <td>Tercero</td>\n      <td>A_Diadema</td>\n      <td>56000</td>\n    </tr>\n    <tr>\n      <th>6</th>\n      <td>7</td>\n      <td>BMEBC</td>\n      <td>Tienda</td>\n      <td>A_Inalambrico</td>\n      <td>77000</td>\n    </tr>\n    <tr>\n      <th>7</th>\n      <td>8</td>\n      <td>JFAOD</td>\n      <td>Tercero</td>\n      <td>Parlante</td>\n      <td>93000</td>\n    </tr>\n    <tr>\n      <th>8</th>\n      <td>9</td>\n      <td>BLJCH</td>\n      <td>Tienda</td>\n      <td>Parlante</td>\n      <td>28000</td>\n    </tr>\n    <tr>\n      <th>9</th>\n      <td>10</td>\n      <td>CMLGF</td>\n      <td>Tercero</td>\n      <td>A_Inalambrico</td>\n      <td>78000</td>\n    </tr>\n    <tr>\n      <th>10</th>\n      <td>11</td>\n      <td>KDPHE</td>\n      <td>Tienda</td>\n      <td>A_Diadema</td>\n      <td>32000</td>\n    </tr>\n    <tr>\n      <th>11</th>\n      <td>12</td>\n      <td>OGNNG</td>\n      <td>Web</td>\n      <td>A_Inalambrico</td>\n      <td>35000</td>\n    </tr>\n    <tr>\n      <th>12</th>\n      <td>13</td>\n      <td>CMLGF</td>\n      <td>Tercero</td>\n      <td>A_Inalambrico</td>\n      <td>95000</td>\n    </tr>\n    <tr>\n      <th>13</th>\n      <td>14</td>\n      <td>JKHLF</td>\n      <td>Tercero</td>\n      <td>Parlante</td>\n      <td>22000</td>\n    </tr>\n    <tr>\n      <th>14</th>\n      <td>15</td>\n      <td>GDCHI</td>\n      <td>Tienda</td>\n      <td>Parlante</td>\n      <td>28000</td>\n    </tr>\n    <tr>\n      <th>15</th>\n      <td>16</td>\n      <td>CMLGF</td>\n      <td>Tienda</td>\n      <td>A_Diadema</td>\n      <td>32000</td>\n    </tr>\n    <tr>\n      <th>16</th>\n      <td>17</td>\n      <td>MBKAO</td>\n      <td>Web</td>\n      <td>Parlante</td>\n      <td>28000</td>\n    </tr>\n    <tr>\n      <th>17</th>\n      <td>18</td>\n      <td>BMEBC</td>\n      <td>Tercero</td>\n      <td>A_Inalambrico</td>\n      <td>51000</td>\n    </tr>\n    <tr>\n      <th>18</th>\n      <td>19</td>\n      <td>NOFBA</td>\n      <td>Web</td>\n      <td>Parlante</td>\n      <td>58000</td>\n    </tr>\n    <tr>\n      <th>19</th>\n      <td>20</td>\n      <td>ELDJL</td>\n      <td>Tercero</td>\n      <td>Parlante</td>\n      <td>22000</td>\n    </tr>\n    <tr>\n      <th>20</th>\n      <td>21</td>\n      <td>CMLGF</td>\n      <td>Tienda</td>\n      <td>A_Inalambrico</td>\n      <td>12000</td>\n    </tr>\n    <tr>\n      <th>21</th>\n      <td>22</td>\n      <td>GDCHI</td>\n      <td>Web</td>\n      <td>A_Inalambrico</td>\n      <td>93000</td>\n    </tr>\n    <tr>\n      <th>22</th>\n      <td>23</td>\n      <td>HGBBK</td>\n      <td>Tienda</td>\n      <td>A_Inalambrico</td>\n      <td>28000</td>\n    </tr>\n    <tr>\n      <th>23</th>\n      <td>24</td>\n      <td>AAOFM</td>\n      <td>Tercero</td>\n      <td>A_Diadema</td>\n      <td>94000</td>\n    </tr>\n    <tr>\n      <th>24</th>\n      <td>25</td>\n      <td>CMLGF</td>\n      <td>Tienda</td>\n      <td>A_Diadema</td>\n      <td>11000</td>\n    </tr>\n  </tbody>\n</table>\n</div>"
     },
     "metadata": {}
    }
   ]
  },
  {
   "cell_type": "markdown",
   "source": "<a style='text-decoration:none;line-height:16px;display:flex;color:#5B5B62;padding:10px;justify-content:end;' href='https://deepnote.com?utm_source=created-in-deepnote-cell&projectId=c3e4079d-b65d-4f98-a9c4-e84568c199f2' target=\"_blank\">\n<img alt='Created in deepnote.com' style='display:inline;max-height:16px;margin:0px;margin-right:7.5px;' src='data:image/svg+xml;base64,PD94bWwgdmVyc2lvbj0iMS4wIiBlbmNvZGluZz0iVVRGLTgiPz4KPHN2ZyB3aWR0aD0iODBweCIgaGVpZ2h0PSI4MHB4IiB2aWV3Qm94PSIwIDAgODAgODAiIHZlcnNpb249IjEuMSIgeG1sbnM9Imh0dHA6Ly93d3cudzMub3JnLzIwMDAvc3ZnIiB4bWxuczp4bGluaz0iaHR0cDovL3d3dy53My5vcmcvMTk5OS94bGluayI+CiAgICA8IS0tIEdlbmVyYXRvcjogU2tldGNoIDU0LjEgKDc2NDkwKSAtIGh0dHBzOi8vc2tldGNoYXBwLmNvbSAtLT4KICAgIDx0aXRsZT5Hcm91cCAzPC90aXRsZT4KICAgIDxkZXNjPkNyZWF0ZWQgd2l0aCBTa2V0Y2guPC9kZXNjPgogICAgPGcgaWQ9IkxhbmRpbmciIHN0cm9rZT0ibm9uZSIgc3Ryb2tlLXdpZHRoPSIxIiBmaWxsPSJub25lIiBmaWxsLXJ1bGU9ImV2ZW5vZGQiPgogICAgICAgIDxnIGlkPSJBcnRib2FyZCIgdHJhbnNmb3JtPSJ0cmFuc2xhdGUoLTEyMzUuMDAwMDAwLCAtNzkuMDAwMDAwKSI+CiAgICAgICAgICAgIDxnIGlkPSJHcm91cC0zIiB0cmFuc2Zvcm09InRyYW5zbGF0ZSgxMjM1LjAwMDAwMCwgNzkuMDAwMDAwKSI+CiAgICAgICAgICAgICAgICA8cG9seWdvbiBpZD0iUGF0aC0yMCIgZmlsbD0iIzAyNjVCNCIgcG9pbnRzPSIyLjM3NjIzNzYyIDgwIDM4LjA0NzY2NjcgODAgNTcuODIxNzgyMiA3My44MDU3NTkyIDU3LjgyMTc4MjIgMzIuNzU5MjczOSAzOS4xNDAyMjc4IDMxLjY4MzE2ODMiPjwvcG9seWdvbj4KICAgICAgICAgICAgICAgIDxwYXRoIGQ9Ik0zNS4wMDc3MTgsODAgQzQyLjkwNjIwMDcsNzYuNDU0OTM1OCA0Ny41NjQ5MTY3LDcxLjU0MjI2NzEgNDguOTgzODY2LDY1LjI2MTk5MzkgQzUxLjExMjI4OTksNTUuODQxNTg0MiA0MS42NzcxNzk1LDQ5LjIxMjIyODQgMjUuNjIzOTg0Niw0OS4yMTIyMjg0IEMyNS40ODQ5Mjg5LDQ5LjEyNjg0NDggMjkuODI2MTI5Niw0My4yODM4MjQ4IDM4LjY0NzU4NjksMzEuNjgzMTY4MyBMNzIuODcxMjg3MSwzMi41NTQ0MjUgTDY1LjI4MDk3Myw2Ny42NzYzNDIxIEw1MS4xMTIyODk5LDc3LjM3NjE0NCBMMzUuMDA3NzE4LDgwIFoiIGlkPSJQYXRoLTIyIiBmaWxsPSIjMDAyODY4Ij48L3BhdGg+CiAgICAgICAgICAgICAgICA8cGF0aCBkPSJNMCwzNy43MzA0NDA1IEwyNy4xMTQ1MzcsMC4yNTcxMTE0MzYgQzYyLjM3MTUxMjMsLTEuOTkwNzE3MDEgODAsMTAuNTAwMzkyNyA4MCwzNy43MzA0NDA1IEM4MCw2NC45NjA0ODgyIDY0Ljc3NjUwMzgsNzkuMDUwMzQxNCAzNC4zMjk1MTEzLDgwIEM0Ny4wNTUzNDg5LDc3LjU2NzA4MDggNTMuNDE4MjY3Nyw3MC4zMTM2MTAzIDUzLjQxODI2NzcsNTguMjM5NTg4NSBDNTMuNDE4MjY3Nyw0MC4xMjg1NTU3IDM2LjMwMzk1NDQsMzcuNzMwNDQwNSAyNS4yMjc0MTcsMzcuNzMwNDQwNSBDMTcuODQzMDU4NiwzNy43MzA0NDA1IDkuNDMzOTE5NjYsMzcuNzMwNDQwNSAwLDM3LjczMDQ0MDUgWiIgaWQ9IlBhdGgtMTkiIGZpbGw9IiMzNzkzRUYiPjwvcGF0aD4KICAgICAgICAgICAgPC9nPgogICAgICAgIDwvZz4KICAgIDwvZz4KPC9zdmc+' > </img>\nCreated in <span style='font-weight:600;margin-left:4px;'>Deepnote</span></a>",
   "metadata": {
    "tags": [],
    "created_in_deepnote_cell": true,
    "deepnote_cell_type": "markdown"
   }
  }
 ],
 "nbformat": 4,
 "nbformat_minor": 2,
 "metadata": {
  "orig_nbformat": 2,
  "deepnote": {
   "is_reactive": false
  },
  "deepnote_notebook_id": "93cc6c70-bc3e-4079-b869-126cf835f09f",
  "deepnote_execution_queue": []
 }
}